{
 "cells": [
  {
   "cell_type": "markdown",
   "metadata": {},
   "source": [
    "Optimal Planning with Dynamic Motion Primitives in Obstacle Scenarios\n",
    "===="
   ]
  },
  {
   "cell_type": "code",
   "execution_count": null,
   "metadata": {
    "scrolled": true
   },
   "outputs": [],
   "source": [
    "# libraries for loading the recorded trajectory and plotting\n",
    "\n",
    "import matplotlib.pyplot as plt\n",
    "from utils import get_trajectory\n",
    "\n",
    "# the trajectory has been recorded in the ROS turtlesim by using the keyboard teleop interface and converted to a csv\n",
    "# file from a rosbag file.\n",
    "\n",
    "x, y = get_trajectory(\"../csv/data.csv\")\n",
    "\n",
    "# Scaling is done so that the node indices in grid search remain integeral for reso=1.0\n",
    "x = [10 * i for i in x]\n",
    "y = [10 * j for j in y]\n",
    "\n",
    "plt.plot(x, y)\n",
    "plt.show()"
   ]
  },
  {
   "cell_type": "markdown",
   "metadata": {},
   "source": [
    "Path Imitation using DMP\n",
    "----"
   ]
  },
  {
   "cell_type": "code",
   "execution_count": null,
   "metadata": {},
   "outputs": [],
   "source": [
    "from dmp_discrete import DMPs_discrete\n",
    "import numpy as np\n",
    "\n",
    "# specify the number of basis functions in n_bfs, time resolution as dt and total run time.\n",
    "dmp = DMPs_discrete(n_dmps=2, n_bfs=100, dt=0.01, run_time=1.0)\n",
    "\n",
    "# learn the weights for the basis functions\n",
    "dmp.imitate_path(y_des=np.array([x, y]))\n",
    "print(\"weights generated for the DMP\")"
   ]
  },
  {
   "cell_type": "markdown",
   "metadata": {},
   "source": [
    "Specify the start and goal positions for the rollout. In this example, we try to just use the same start and goal positions as in the demonstration."
   ]
  },
  {
   "cell_type": "code",
   "execution_count": null,
   "metadata": {},
   "outputs": [],
   "source": [
    "dmp.y0[0] = x[0]\n",
    "dmp.y0[1] = y[0]\n",
    "\n",
    "dmp.goal[0] = x[-1]\n",
    "dmp.goal[1] = y[-1]\n",
    "\n",
    "y_track_nc, dy_track_nc, ddy_track_nc, s = dmp.rollout()"
   ]
  },
  {
   "cell_type": "markdown",
   "metadata": {},
   "source": [
    "For plotting the rolled out trajectory, execute the cell below."
   ]
  },
  {
   "cell_type": "code",
   "execution_count": null,
   "metadata": {},
   "outputs": [],
   "source": [
    "plt.plot(y_track_nc[:, 0], y_track_nc[:, 1])\n",
    "plt.scatter(y_track_nc[:, 0], y_track_nc[:, 1])\n",
    "plt.plot(x, y, color='r')"
   ]
  },
  {
   "cell_type": "markdown",
   "metadata": {},
   "source": [
    "DMPs with Variable Start and Goal\n",
    "---"
   ]
  },
  {
   "cell_type": "code",
   "execution_count": null,
   "metadata": {},
   "outputs": [],
   "source": [
    "dmp.y0[0] = 100.0\n",
    "dmp.y0[1] = 100.0\n",
    "\n",
    "dmp.goal[0] = 50.0\n",
    "dmp.goal[1] = 200.0\n",
    "\n",
    "y_track2, dy_track2, ddy_track2, s2 = dmp.rollout()\n",
    "\n",
    "plt.plot(y_track2[:, 0], y_track2[:, 1])\n",
    "plt.scatter(y_track2[:, 0], y_track2[:, 1])\n",
    "plt.plot(x, y, color='r')"
   ]
  },
  {
   "cell_type": "markdown",
   "metadata": {},
   "source": [
    "Obstacle Worlds\n",
    "---"
   ]
  },
  {
   "cell_type": "code",
   "execution_count": null,
   "metadata": {},
   "outputs": [],
   "source": [
    "import math\n",
    "from shapely.geometry.polygon import LinearRing, Polygon\n",
    "from shapely.geometry import Point, mapping\n",
    "from math import sqrt, ceil, floor\n",
    "\n",
    "# specify the end points of the polygon.\n",
    "coords = [(30.0, 75), (30, 85), (35, 85), (35, 75)]\n",
    "\n",
    "obstacle = Polygon(coords)\n",
    "ob_x, ob_y = obstacle.exterior.xy\n",
    "plt.plot(y_track_nc[:, 0], y_track_nc[:, 1])\n",
    "plt.scatter(y_track_nc[:, 0], y_track_nc[:, 1])\n",
    "plt.plot(x, y, color='r')\n",
    "plt.plot(ob_x, ob_y, color='#6699cc', alpha=0.7, linewidth=3, solid_capstyle='round', zorder=2)\n"
   ]
  },
  {
   "cell_type": "markdown",
   "metadata": {},
   "source": [
    "As you can see, since the demonstration was for an obstacle free scenario, the path rolled out by the DMP is not able to adapt to the obstacle that is present in the environment. Therefore, for making this adapt to the obstacle scenario, we try out various approaches: (1). Potential fields (2). Grid Search (3). Probabilistic Roadmaps (4). Time-Space Probabilistic Roadmap"
   ]
  },
  {
   "cell_type": "markdown",
   "metadata": {},
   "source": [
    "Potential Field Methods\n",
    "---\n",
    "\n",
    "We first try out a potential field method. A point repulsive field is applied throughout the rolled out trajectory. The point repulsive field for a given point on the DMP, is the closest point on the obstacle to the DMP."
   ]
  },
  {
   "cell_type": "code",
   "execution_count": 18,
   "metadata": {},
   "outputs": [
    {
     "data": {
      "text/plain": [
       "<matplotlib.collections.PathCollection at 0x10bce75f8>"
      ]
     },
     "execution_count": 18,
     "metadata": {},
     "output_type": "execute_result"
    },
    {
     "data": {
      "image/png": "[encoded data removed]",
      "text/plain": [
       "<Figure size 432x288 with 1 Axes>"
      ]
     },
     "metadata": {},
     "output_type": "display_data"
    }
   ],
   "source": [
    "from utils import avoid_obstacles\n",
    "\n",
    "# TODO: Alternative potential field expressions\n",
    "\n",
    "dmp.y0[0] = x[0]\n",
    "dmp.y0[1] = y[0]\n",
    "\n",
    "dmp.goal[0] = x[-1]\n",
    "dmp.goal[1] = y[-1]\n",
    "\n",
    "\n",
    "y_track_pot, dy_track_pot, ddy_track_pot, s = dmp.rollout(obstacles=[obstacle], external_force=avoid_obstacles)\n",
    "\n",
    "\n",
    "plt.plot(ob_x, ob_y, color='#6699cc', alpha=0.7, linewidth=3, solid_capstyle='round', zorder=2)\n",
    "\n",
    "plt.plot(y_track_nc[:, 0], y_track_nc[:, 1])\n",
    "plt.scatter(y_track_nc[:, 0], y_track_nc[:, 1])\n",
    "\n",
    "plt.plot(y_track_pot[:, 0], y_track_pot[:, 1], color='r')\n",
    "plt.scatter(y_track_pot[:, 0], y_track_pot[:, 1], color='r')"
   ]
  },
  {
   "cell_type": "markdown",
   "metadata": {},
   "source": [
    "Grid Search Based Methods\n",
    "---\n",
    "\n",
    "Above we can see that the obstacle field is not able to make the path feasible. The approach requires tuning hyperparamters such as the strength of the field. For many scenarios the approach might work but it provides no gurantee of feasibility and optimality. However, it is computationally cheaper than some of the other approaches that would be discussed later.\n",
    "\n",
    "Now, we try out a Grid based Method, which gives a gurantee of finding a feasible solution if one exists given a small enough grid resolution. The edge weight is defined as the 2D euclidean distance of the grid point from the nearest point on the DMP, which serves as a guiding path. \n",
    "\n",
    "Once a graph is constructed from the grid points, a graph search algorithm is used to return the lowest cost path."
   ]
  },
  {
   "cell_type": "code",
   "execution_count": null,
   "metadata": {},
   "outputs": [],
   "source": [
    "%matplotlib inline\n",
    "import matplotlib.pyplot as plt\n",
    "\n",
    "from grid_search import Node, calc_final_path, verify_node, calc_index\n",
    "from math import modf, sqrt, ceil, floor\n",
    "\n",
    "# TODO: Animation plot in the single graph\n",
    "\n",
    "show_animation = False\n",
    "def calc_obstacle_map(obstacles, reso):\n",
    "\n",
    "    minx = 0\n",
    "    miny = 0\n",
    "    maxx = 1000\n",
    "    maxy = 1000\n",
    "\n",
    "    xwidth = round(maxx - minx)\n",
    "    ywidth = round(maxy - miny)\n",
    "\n",
    "    # obstacle map generation\n",
    "    obmap = [[False for i in range(xwidth)] for i in range(ywidth)]\n",
    "    for ix in range(xwidth):\n",
    "        x = ix + minx\n",
    "        for iy in range(ywidth):\n",
    "            y = iy + miny\n",
    "            point = Point((reso * x, reso * y))\n",
    "            for obstacle in obstacles:\n",
    "                if obstacle.contains(point):\n",
    "                    obmap[ix][iy] = True\n",
    "                    break\n",
    "\n",
    "    return obmap, minx, miny, maxx, maxy, xwidth, ywidth\n",
    "\n",
    "                    \n",
    "def dijkstra_planning(sx, sy, gx, gy, obstacles, reso, dmp=None,\n",
    "                      dmp_vel=None, dt=0.01, deviation_penalty=True):\n",
    "    \"\"\"\n",
    "    :param sx: start x coordinate\n",
    "    :param sy: start y coordinate\n",
    "    :param gx: goal x coordinate\n",
    "    :param gy: goal y coordinate\n",
    "    :param obstacles: list of shapely polygons\n",
    "    :param reso: resolution of smaller grids\n",
    "    :param cost_type: type of cost defining edge weights\n",
    "    :param dmp: path given by a dmp\n",
    "    :param dmp_vel: dmp_velocities\n",
    "    :param dt: time resolution of the dmp\n",
    "    :return: time parameterised path\n",
    "\n",
    "    \"\"\"\n",
    "    print(\"start is: \", (sx, sy))\n",
    "    print(\"goal is: \", (gx, gy))\n",
    "    # scale the dmp and its velocities according to the resolution of the grid.\n",
    "    print(\"shape of dmp is: \", dmp.shape)\n",
    "    print(\"shape of dmp velocity is: \", dmp_vel.shape)\n",
    "    for i in range(0, len(dmp)):\n",
    "        for j in range(0, len(dmp[i])):\n",
    "            dmp[i][j] = dmp[i][j] / reso\n",
    "            dmp_vel[i][j] = dmp[i][j] / reso\n",
    "\n",
    "    nstart = Node(round(sx / reso), round(sy / reso), 0.0, -1)\n",
    "\n",
    "    ngoal = Node(round(gx / reso), round(gy / reso), 0.0, -1, len(dmp))\n",
    "\n",
    "    ngoal = Node(round(gx / reso), round(gy / reso), 0.0, -1)\n",
    "\n",
    "    obmap, minx, miny, maxx, maxy, xw, yw = calc_obstacle_map(obstacles, reso)\n",
    "\n",
    "    motion = [[1, 0, 1],\n",
    "              [0, 1, 1],\n",
    "              [-1, 0, 1],\n",
    "              [0, -1, 1],\n",
    "              [-1, -1, math.sqrt(2)],\n",
    "              [-1, 1, math.sqrt(2)],\n",
    "              [1, -1, math.sqrt(2)],\n",
    "              [1, 1, math.sqrt(2)]]\n",
    "\n",
    "    openset, closedset = dict(), dict()\n",
    "    openset[calc_index(nstart, xw, minx, miny)] = nstart\n",
    "\n",
    "    while 1:\n",
    "        c_id = min(openset, key=lambda o: openset[o].cost)\n",
    "        current = openset[c_id]\n",
    "        # show graph\n",
    "        plt.plot(current.x * reso, current.y * reso, \"xc\")\n",
    "        if show_animation:            \n",
    "            if len(closedset.keys()) % 10 == 0:\n",
    "                plt.pause(0.1)\n",
    "\n",
    "        if current.x == ngoal.x and current.y == ngoal.y:\n",
    "            print(\"[INFO]: searched reached the goal\")\n",
    "            ngoal.pind = current.pind\n",
    "            ngoal.cost = current.cost\n",
    "            break\n",
    "\n",
    "        # Remove the item from the open set\n",
    "        del openset[c_id]\n",
    "        # Add it to the closed set\n",
    "        closedset[c_id] = current\n",
    "\n",
    "        # expand search grid based on motion model\n",
    "        for i, _ in enumerate(motion):\n",
    "            dmp_cost = calculate_dmp_cost(current.x, current.y,\n",
    "                                          motion[i][0], motion[i][1],\n",
    "                                          dmp, dmp_vel, obstacles, reso, dt,\n",
    "                                          dev_penalty=deviation_penalty)\n",
    "            node = Node(current.x + motion[i][0], current.y + motion[i][1],\n",
    "                            current.cost + dmp_cost,\n",
    "                            c_id)\n",
    "\n",
    "            n_id = calc_index(node, xw, minx, miny)\n",
    "\n",
    "            if not verify_node(node, obmap, minx, miny, maxx, maxy):\n",
    "                continue\n",
    "\n",
    "            if n_id in closedset:\n",
    "                continue\n",
    "                \n",
    "            # Otherwise if it is already in the open set\n",
    "            if n_id in openset:\n",
    "                # print(\"nid exists in openset\")\n",
    "                if openset[n_id].cost > node.cost:\n",
    "                    openset[n_id].cost = node.cost\n",
    "                    openset[n_id].pind = c_id\n",
    "\n",
    "            else:\n",
    "                openset[n_id] = node\n",
    "    \n",
    "    # call to final_path to give out the trail for the lowest cost path.\n",
    "    rx, ry = calc_final_path(ngoal, closedset, reso)\n",
    "\n",
    "    return rx, ry\n",
    "\n",
    "\n",
    "def calculate_dmp_cost(x, y, motion_x, motion_y, dmp, dmp_vel, obstacles=None, reso=1.0, dt=0.01,\n",
    "                      dev_penalty=True):\n",
    "    \"\"\"\n",
    "    :param x: x coordinate of the point which we are moving to\n",
    "    :param y: y coordinate of the point which we are moving to\n",
    "    :param motion_x: distance to be moved along x\n",
    "    :param motion_y: distance to be moved along y\n",
    "    :param dmp: reference dmp\n",
    "    :param dmp_vel: reference dmp velocities\n",
    "    :param obstacles: list of shapely polygons\n",
    "    :param reso: resolution of the 2D grid\n",
    "    :return: cost of the given node\n",
    "\n",
    "    \"\"\"\n",
    "\n",
    "    d = []\n",
    "\n",
    "    for pt in dmp:\n",
    "        distance = sqrt((x - pt[0]) ** 2 + (y - pt[1]) ** 2)\n",
    "        d.append(distance)\n",
    "\n",
    "    d = np.array(d)\n",
    "\n",
    "    # closest point on the motion primitive.\n",
    "    time_index = np.argmin(d)\n",
    "\n",
    "    # time taken to traverse the required distance, if we were to travel at the velocity at the nearest DMP point.\n",
    "    delta_t_index = (sqrt(motion_x ** 2 + motion_y ** 2)/sqrt(dmp_vel[time_index][0] ** 2 +\n",
    "                                                              dmp_vel[time_index][1] ** 2))/dt\n",
    "    \n",
    "    if floor(time_index + delta_t_index) < len(dmp):\n",
    "        \n",
    "        # get the coordinates on the DMP for t + delta_t \n",
    "        dmp_0 = dmp[floor(time_index + delta_t_index)]\n",
    "\n",
    "        if ceil(time_index + delta_t_index) < len(dmp):\n",
    "            dmp_1 = dmp[ceil(time_index + delta_t_index)]\n",
    "            dmp_next = dmp_0 + (dmp_1 - dmp_0) * modf(delta_t_index)[0]\n",
    "\n",
    "        else:\n",
    "            dmp_next = dmp_0\n",
    "\n",
    "    dmp_x = dmp_next[0]\n",
    "    dmp_y = dmp_next[1]\n",
    "\n",
    "    obstacle_cost = 0\n",
    "    if obstacles is not None:\n",
    "        for obstacle in obstacles:\n",
    "            pol_ext = LinearRing(obstacle.exterior.coords)\n",
    "            d = pol_ext.project(Point(reso * (x + motion_x), reso * (y + motion_y)))\n",
    "            p = pol_ext.interpolate(d)\n",
    "            obst_potential_pt = list(p.coords)[0]\n",
    "            dist = sqrt((y + motion_y - round(obst_potential_pt[1]/reso)) ** 2 +\n",
    "                        (x + motion_x - round(obst_potential_pt[0]/reso)) ** 2)\n",
    "            obstacle_cost += 1/((dist + 0.0000001) ** 2)\n",
    "\n",
    "    # print(\"obstacle cost is: \", obstacle_cost)\n",
    "    \n",
    "    cost = sqrt((y + motion_y - dmp_y) ** 2 + (x + motion_x - dmp_x) ** 2) + obstacle_cost \n",
    "    \n",
    "    if dev_penalty:\n",
    "        cost -= sqrt((y - dmp[time_index][1]) ** 2 + (x - dmp[time_index][0]) ** 2)\n",
    "\n",
    "    return cost"
   ]
  },
  {
   "cell_type": "code",
   "execution_count": 23,
   "metadata": {},
   "outputs": [
    {
     "name": "stdout",
     "output_type": "stream",
     "text": [
      "start is:  (55, 55)\n",
      "goal is:  (36, 110)\n",
      "shape of dmp is:  (100, 2)\n",
      "shape of dmp velocity is:  (100, 2)\n",
      "[INFO]: searched reached the goal\n",
      "calculate final path called\n",
      "final path calculated..\n"
     ]
    },
    {
     "data": {
      "text/plain": [
       "[<matplotlib.lines.Line2D at 0xb1c3ebef0>]"
      ]
     },
     "execution_count": 23,
     "metadata": {},
     "output_type": "execute_result"
    },
    {
     "data": {
      "image/png": "[encoded data removed]",
      "text/plain": [
       "<Figure size 432x288 with 1 Axes>"
      ]
     },
     "metadata": {},
     "output_type": "display_data"
    }
   ],
   "source": [
    "grid_size = 1.0\n",
    "\n",
    "plt.plot(ob_x, ob_y, color='#6699cc', alpha=0.7, linewidth=3, solid_capstyle='round', zorder=2)\n",
    "\n",
    "plt.plot(y_track_nc[:, 0], y_track_nc[:, 1])\n",
    "plt.scatter(y_track_nc[:, 0], y_track_nc[:, 1])\n",
    "\n",
    "rx, ry = dijkstra_planning(floor(x[0]), floor(y[0]), floor(x[-1]), floor(y[-1]), [obstacle], grid_size,\n",
    "                          dmp=y_track_nc, dmp_vel=dy_track_nc, dt=dmp.dt)\n",
    "\n",
    "plt.plot(rx, ry, \"-r\")"
   ]
  },
  {
   "cell_type": "markdown",
   "metadata": {},
   "source": [
    "Without deviation penalty for the same goal and environment"
   ]
  },
  {
   "cell_type": "code",
   "execution_count": 25,
   "metadata": {},
   "outputs": [
    {
     "name": "stdout",
     "output_type": "stream",
     "text": [
      "start is:  (55, 55)\n",
      "goal is:  (36, 110)\n",
      "shape of dmp is:  (100, 2)\n",
      "shape of dmp velocity is:  (100, 2)\n",
      "[INFO]: searched reached the goal\n",
      "calculate final path called\n",
      "final path calculated..\n"
     ]
    },
    {
     "data": {
      "text/plain": [
       "[<matplotlib.lines.Line2D at 0xb1d11e390>]"
      ]
     },
     "execution_count": 25,
     "metadata": {},
     "output_type": "execute_result"
    },
    {
     "data": {
      "image/png": "[encoded data removed]",
      "text/plain": [
       "<Figure size 432x288 with 1 Axes>"
      ]
     },
     "metadata": {},
     "output_type": "display_data"
    }
   ],
   "source": [
    "plt.plot(ob_x, ob_y, color='#6699cc', alpha=0.7, linewidth=3, solid_capstyle='round', zorder=2)\n",
    "\n",
    "plt.plot(y_track_nc[:, 0], y_track_nc[:, 1])\n",
    "plt.scatter(y_track_nc[:, 0], y_track_nc[:, 1])\n",
    "\n",
    "rx, ry = dijkstra_planning(floor(x[0]), floor(y[0]), floor(x[-1]), floor(y[-1]), [obstacle], grid_size,\n",
    "                          dmp=y_track_nc, dmp_vel=dy_track_nc, dt=dmp.dt, deviation_penalty=False)\n",
    "\n",
    "plt.plot(rx, ry, \"-r\")"
   ]
  },
  {
   "cell_type": "markdown",
   "metadata": {},
   "source": [
    "From the above two plots, we observe that subtracting the previous deviation is not helpful as it encourages deviation from the guiding path. However, this might help to search for alternate paths when the obstacle density is higher."
   ]
  },
  {
   "cell_type": "code",
   "execution_count": 30,
   "metadata": {},
   "outputs": [
    {
     "name": "stdout",
     "output_type": "stream",
     "text": [
      "start is:  (55, 55)\n",
      "goal is:  (36, 110)\n",
      "shape of dmp is:  (100, 2)\n",
      "shape of dmp velocity is:  (100, 2)\n",
      "[INFO]: searched reached the goal\n",
      "calculate final path called\n",
      "final path calculated..\n"
     ]
    },
    {
     "data": {
      "text/plain": [
       "[<matplotlib.lines.Line2D at 0xb1f628c18>]"
      ]
     },
     "execution_count": 30,
     "metadata": {},
     "output_type": "execute_result"
    },
    {
     "data": {
      "image/png": "[encoded data removed]",
      "text/plain": [
       "<Figure size 432x288 with 1 Axes>"
      ]
     },
     "metadata": {},
     "output_type": "display_data"
    }
   ],
   "source": [
    "grid_size = 1.0\n",
    "\n",
    "coords2 = [(20.0, 85), (20.0, 95), (25.0, 95), (25, 85)]\n",
    "\n",
    "obstacle2 = Polygon(coords2)\n",
    "ob_x2, ob_y2 = obstacle2.exterior.xy\n",
    "\n",
    "plt.plot(ob_x, ob_y, color='#6699cc', alpha=0.7, linewidth=3, solid_capstyle='round', zorder=2)\n",
    "plt.plot(ob_x2, ob_y2, color='#6699cc', alpha=0.7, linewidth=3, solid_capstyle='round', zorder=2)\n",
    "\n",
    "plt.plot(y_track_nc[:, 0], y_track_nc[:, 1])\n",
    "plt.scatter(y_track_nc[:, 0], y_track_nc[:, 1])\n",
    "\n",
    "rx, ry = dijkstra_planning(floor(x[0]), floor(y[0]), floor(x[-1]), floor(y[-1]), [obstacle, obstacle2], grid_size,\n",
    "                          dmp=y_track_nc, dmp_vel=dy_track_nc, dt=dmp.dt)\n",
    "\n",
    "plt.plot(rx, ry, \"-r\")"
   ]
  },
  {
   "cell_type": "code",
   "execution_count": 31,
   "metadata": {},
   "outputs": [
    {
     "name": "stdout",
     "output_type": "stream",
     "text": [
      "start is:  (55, 55)\n",
      "goal is:  (36, 110)\n",
      "shape of dmp is:  (100, 2)\n",
      "shape of dmp velocity is:  (100, 2)\n",
      "[INFO]: searched reached the goal\n",
      "calculate final path called\n",
      "final path calculated..\n"
     ]
    },
    {
     "data": {
      "text/plain": [
       "[<matplotlib.lines.Line2D at 0xb203a8128>]"
      ]
     },
     "execution_count": 31,
     "metadata": {},
     "output_type": "execute_result"
    },
    {
     "data": {
      "image/png": "[encoded data removed]",
      "text/plain": [
       "<Figure size 432x288 with 1 Axes>"
      ]
     },
     "metadata": {},
     "output_type": "display_data"
    }
   ],
   "source": [
    "plt.plot(ob_x, ob_y, color='#6699cc', alpha=0.7, linewidth=3, solid_capstyle='round', zorder=2)\n",
    "plt.plot(ob_x2, ob_y2, color='#6699cc', alpha=0.7, linewidth=3, solid_capstyle='round', zorder=2)\n",
    "\n",
    "plt.plot(y_track_nc[:, 0], y_track_nc[:, 1])\n",
    "plt.scatter(y_track_nc[:, 0], y_track_nc[:, 1])\n",
    "\n",
    "rx, ry = dijkstra_planning(floor(x[0]), floor(y[0]), floor(x[-1]), floor(y[-1]), [obstacle, obstacle2], grid_size,\n",
    "                          dmp=y_track_nc, dmp_vel=dy_track_nc, dt=dmp.dt, deviation_penalty=False)\n",
    "\n",
    "plt.plot(rx, ry, \"-r\")"
   ]
  },
  {
   "cell_type": "markdown",
   "metadata": {},
   "source": [
    "In this case, we can observe how the penalty terms plays it part as we get a more realistic curve with first plot. The above methods can be further speeded up by doing a forward-reverse search. "
   ]
  },
  {
   "cell_type": "markdown",
   "metadata": {},
   "source": [
    "Time-Space Grid Search \n",
    "---\n",
    "\n",
    "Since, the cost is only dependent on the spatial distance from the guiding path, the search tends to jump forward in time to catch the future DMP points without consideration to time as seen in Fig 2.\n",
    "\n",
    "To solve this we first align the 3D grid point(space-time) to the nearest space-time version of the DMP, and introduce the cost which is the spatial distance between the points.\n"
   ]
  },
  {
   "cell_type": "code",
   "execution_count": null,
   "metadata": {},
   "outputs": [],
   "source": []
  },
  {
   "cell_type": "markdown",
   "metadata": {},
   "source": [
    "Probabilistic Roadmap Methods\n",
    "---\n",
    "\n",
    "The grid search based methods provide "
   ]
  },
  {
   "cell_type": "code",
   "execution_count": null,
   "metadata": {},
   "outputs": [],
   "source": []
  }
 ],
 "metadata": {
  "kernelspec": {
   "display_name": "Python [default]",
   "language": "python",
   "name": "python3"
  }
 },
 "nbformat": 4,
 "nbformat_minor": 2
}
